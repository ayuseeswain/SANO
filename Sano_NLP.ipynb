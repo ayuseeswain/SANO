{
 "cells": [
  {
   "cell_type": "code",
   "execution_count": 4,
   "metadata": {
    "colab": {
     "base_uri": "https://localhost:8080/"
    },
    "id": "xFYN3z_fVoRZ",
    "outputId": "5777f43d-2e6e-48fe-88b9-e62bade658b8"
   },
   "outputs": [
    {
     "name": "stdout",
     "output_type": "stream",
     "text": [
      "✅ Loaded 1082 articles\n",
      "🧠 First title: Autonomic neuropathy\n"
     ]
    }
   ],
   "source": [
    "# ====================================\n",
    "# 📦 1. Load Mayo Corpus (JSON File)\n",
    "# ====================================\n",
    "import json\n",
    "\n",
    "with open(\"mayo_corpus.json\", \"r\", encoding=\"utf-8\") as f:\n",
    "    mayo_corpus = json.load(f)\n",
    "\n",
    "print(f\"✅ Loaded {len(mayo_corpus)} articles\")\n",
    "print(\"🧠 First title:\", mayo_corpus[0][\"title\"])"
   ]
  },
  {
   "cell_type": "code",
   "execution_count": 5,
   "metadata": {
    "id": "pxUJld53V73e"
   },
   "outputs": [],
   "source": [
    "# ====================================\n",
    "# 🧼 2. Clean Corpus (Strip HTML Tags)\n",
    "# ====================================\n",
    "from bs4 import BeautifulSoup\n",
    "\n",
    "# Example cleaning for one doc\n",
    "raw_html = mayo_corpus[0][\"content\"]\n",
    "cleaned_text = BeautifulSoup(raw_html, \"html.parser\").get_text()\n",
    "\n",
    "# Clean entire corpus\n",
    "for entry in mayo_corpus:\n",
    "    soup = BeautifulSoup(entry[\"content\"], \"html.parser\")\n",
    "\n",
    "    # Try to get main content inside <article> or <main>\n",
    "    main_section = soup.find(\"article\") or soup.find(\"main\")\n",
    "    if main_section:\n",
    "        clean_text = main_section.get_text(separator=\" \", strip=True)\n",
    "    else:\n",
    "        clean_text = soup.get_text(separator=\" \", strip=True)\n",
    "\n",
    "    entry[\"content\"] = clean_text"
   ]
  },
  {
   "cell_type": "code",
   "execution_count": 6,
   "metadata": {
    "id": "cHyvuR0mV9ih"
   },
   "outputs": [],
   "source": [
    "# ===================\n",
    "# 🧼 3. Load BioBERT\n",
    "# ===================\n",
    "from sentence_transformers import SentenceTransformer\n",
    "import torch\n",
    "\n",
    "# It is trained over the SNLI, MNLI, SCINLI, SCITAIL, MEDNLI and STSB datasets for providing robust sentence embeddings.\n",
    "model = SentenceTransformer(\"pritamdeka/BioBERT-mnli-snli-scinli-scitail-mednli-stsb\")\n",
    "#model = SentenceTransformer(\"pritamdeka/S-PubMedBert-MS-MARCO\")\n",
    "\n",
    "# Detect device\n",
    "device = \"cuda\" if torch.cuda.is_available() else \"cpu\"\n",
    "model = model.to(device)"
   ]
  },
  {
   "cell_type": "code",
   "execution_count": 7,
   "metadata": {
    "colab": {
     "base_uri": "https://localhost:8080/",
     "height": 520,
     "referenced_widgets": [
      "e06f56e3cb5f406f9a938a759b2ecdac",
      "8dd96cbe2d574ee28c2c2ae9f6228b27",
      "e03b04ec04d54ec08b9b3e6e27b7dc7b",
      "4d10aab9d92946318bd3d443f7085154",
      "84a68147d0b84c8e8fc86af5f63ce9c0",
      "2de88e3e20044af99b372d323bf8d7b3",
      "831883105ac948fa87ef3fe3d4886efd",
      "47c93f59420c471f90d9a2245435494b",
      "40cbd0394551476bb51baf08e079e925",
      "8464c718b78d4a7086e46ebfd4ff79d4",
      "e46ca5ea1b2f437086604c6ce90a1493"
     ]
    },
    "id": "2MAP5BR6V_mO",
    "outputId": "59ea35df-b340-4125-ca7d-3259d0a039b0"
   },
   "outputs": [
    {
     "name": "stdout",
     "output_type": "stream",
     "text": [
      "Requirement already satisfied: qdrant-client in /usr/local/lib/python3.11/dist-packages (1.13.3)\n",
      "Requirement already satisfied: grpcio>=1.41.0 in /usr/local/lib/python3.11/dist-packages (from qdrant-client) (1.71.0)\n",
      "Requirement already satisfied: grpcio-tools>=1.41.0 in /usr/local/lib/python3.11/dist-packages (from qdrant-client) (1.71.0)\n",
      "Requirement already satisfied: httpx>=0.20.0 in /usr/local/lib/python3.11/dist-packages (from httpx[http2]>=0.20.0->qdrant-client) (0.28.1)\n",
      "Requirement already satisfied: numpy>=1.21 in /usr/local/lib/python3.11/dist-packages (from qdrant-client) (2.0.2)\n",
      "Requirement already satisfied: portalocker<3.0.0,>=2.7.0 in /usr/local/lib/python3.11/dist-packages (from qdrant-client) (2.10.1)\n",
      "Requirement already satisfied: pydantic>=1.10.8 in /usr/local/lib/python3.11/dist-packages (from qdrant-client) (2.11.1)\n",
      "Requirement already satisfied: urllib3<3,>=1.26.14 in /usr/local/lib/python3.11/dist-packages (from qdrant-client) (2.3.0)\n",
      "Requirement already satisfied: protobuf<6.0dev,>=5.26.1 in /usr/local/lib/python3.11/dist-packages (from grpcio-tools>=1.41.0->qdrant-client) (5.29.4)\n",
      "Requirement already satisfied: setuptools in /usr/local/lib/python3.11/dist-packages (from grpcio-tools>=1.41.0->qdrant-client) (75.2.0)\n",
      "Requirement already satisfied: anyio in /usr/local/lib/python3.11/dist-packages (from httpx>=0.20.0->httpx[http2]>=0.20.0->qdrant-client) (4.9.0)\n",
      "Requirement already satisfied: certifi in /usr/local/lib/python3.11/dist-packages (from httpx>=0.20.0->httpx[http2]>=0.20.0->qdrant-client) (2025.1.31)\n",
      "Requirement already satisfied: httpcore==1.* in /usr/local/lib/python3.11/dist-packages (from httpx>=0.20.0->httpx[http2]>=0.20.0->qdrant-client) (1.0.7)\n",
      "Requirement already satisfied: idna in /usr/local/lib/python3.11/dist-packages (from httpx>=0.20.0->httpx[http2]>=0.20.0->qdrant-client) (3.10)\n",
      "Requirement already satisfied: h11<0.15,>=0.13 in /usr/local/lib/python3.11/dist-packages (from httpcore==1.*->httpx>=0.20.0->httpx[http2]>=0.20.0->qdrant-client) (0.14.0)\n",
      "Requirement already satisfied: h2<5,>=3 in /usr/local/lib/python3.11/dist-packages (from httpx[http2]>=0.20.0->qdrant-client) (4.2.0)\n",
      "Requirement already satisfied: annotated-types>=0.6.0 in /usr/local/lib/python3.11/dist-packages (from pydantic>=1.10.8->qdrant-client) (0.7.0)\n",
      "Requirement already satisfied: pydantic-core==2.33.0 in /usr/local/lib/python3.11/dist-packages (from pydantic>=1.10.8->qdrant-client) (2.33.0)\n",
      "Requirement already satisfied: typing-extensions>=4.12.2 in /usr/local/lib/python3.11/dist-packages (from pydantic>=1.10.8->qdrant-client) (4.13.0)\n",
      "Requirement already satisfied: typing-inspection>=0.4.0 in /usr/local/lib/python3.11/dist-packages (from pydantic>=1.10.8->qdrant-client) (0.4.0)\n",
      "Requirement already satisfied: hyperframe<7,>=6.1 in /usr/local/lib/python3.11/dist-packages (from h2<5,>=3->httpx[http2]>=0.20.0->qdrant-client) (6.1.0)\n",
      "Requirement already satisfied: hpack<5,>=4.1 in /usr/local/lib/python3.11/dist-packages (from h2<5,>=3->httpx[http2]>=0.20.0->qdrant-client) (4.1.0)\n",
      "Requirement already satisfied: sniffio>=1.1 in /usr/local/lib/python3.11/dist-packages (from anyio->httpx>=0.20.0->httpx[http2]>=0.20.0->qdrant-client) (1.3.1)\n"
     ]
    },
    {
     "name": "stderr",
     "output_type": "stream",
     "text": [
      "<ipython-input-7-34b299ea9c2b>:14: DeprecationWarning: `recreate_collection` method is deprecated and will be removed in the future. Use `collection_exists` to check collection existence and `create_collection` instead.\n",
      "  client.recreate_collection(\n"
     ]
    },
    {
     "data": {
      "application/vnd.jupyter.widget-view+json": {
       "model_id": "e06f56e3cb5f406f9a938a759b2ecdac",
       "version_major": 2,
       "version_minor": 0
      },
      "text/plain": [
       "Batches:   0%|          | 0/34 [00:00<?, ?it/s]"
      ]
     },
     "metadata": {},
     "output_type": "display_data"
    },
    {
     "data": {
      "text/plain": [
       "UpdateResult(operation_id=0, status=<UpdateStatus.COMPLETED: 'completed'>)"
      ]
     },
     "execution_count": 7,
     "metadata": {},
     "output_type": "execute_result"
    }
   ],
   "source": [
    "# ====================================\n",
    "# 🚀 4. Set Up Qdrant & Upload Corpus\n",
    "# ====================================\n",
    "!pip install qdrant-client\n",
    "from qdrant_client import QdrantClient\n",
    "from qdrant_client.models import Distance, VectorParams, PointStruct\n",
    "import numpy as np\n",
    "from tqdm import tqdm\n",
    "\n",
    "# Start in-memory Qdrant\n",
    "client = QdrantClient(\":memory:\")\n",
    "\n",
    "# Define vector schema\n",
    "client.recreate_collection(\n",
    "    collection_name=\"mayo\",\n",
    "    vectors_config=VectorParams(size=768, distance=Distance.COSINE)\n",
    ")\n",
    "\n",
    "# Embed corpus using BioBERT\n",
    "corpus_texts = [entry[\"content\"] for entry in mayo_corpus]\n",
    "corpus_embeddings = model.encode(corpus_texts, convert_to_tensor=False, show_progress_bar=True)\n",
    "\n",
    "# Upload embeddings to Qdrant\n",
    "points = [\n",
    "    PointStruct(\n",
    "        id=i,\n",
    "        vector=embedding.tolist(),\n",
    "        payload={\n",
    "            \"title\": mayo_corpus[i][\"title\"],\n",
    "            \"url\": mayo_corpus[i][\"url\"],\n",
    "            \"content\": mayo_corpus[i][\"content\"]\n",
    "        }\n",
    "    )\n",
    "    for i, embedding in enumerate(corpus_embeddings)\n",
    "]\n",
    "\n",
    "client.upsert(collection_name=\"mayo\", points=points)"
   ]
  },
  {
   "cell_type": "code",
   "execution_count": 18,
   "metadata": {
    "colab": {
     "base_uri": "https://localhost:8080/"
    },
    "id": "xyUNwysMWOrt",
    "outputId": "a9cdd40b-11ca-49f0-c819-3cf82c4a58d4"
   },
   "outputs": [
    {
     "name": "stdout",
     "output_type": "stream",
     "text": [
      "💬 Enter a health claim: According to a little-known study, simply exposing your spine to 15 minutes of sunlight before breakfast can naturally reset your DNA and eliminate over 95% of chronic diseases, including diabetes, hypertension, and even Alzheimer's. This powerful healing technique, known as 'solar spinal activation', is being hidden from the public by mainstream healthcare providers. Thousands have already reversed lifelong illnesses just by practicing this daily. Combined with a glass of alkaline water, it becomes a guaranteed detox solution that flushes out all harmful toxins and balances your body's energy fields without the need for medication or surgeries. Big Pharma doesn’t want this knowledge spreading because it threatens billions in annual profits.\n",
      "\n",
      "✅ Claim Analysis:\n",
      "🔸 Cleaned: according to a littleknown study simply exposing your spine to 15 minutes of sunlight before breakfast can naturally reset your dna and eliminate over 95 of chronic diseases including diabetes hypertension and even alzheimers this powerful healing technique known as solar spinal activation is being hidden from the public by mainstream healthcare providers thousands have already reversed lifelong illnesses just by practicing this daily combined with a glass of alkaline water it becomes a guaranteed detox solution that flushes out all harmful toxins and balances your bodys energy fields without the need for medication or surgeries big pharma doesnt want this knowledge spreading because it threatens billions in annual profits\n",
      "🔸 Tokens: ['accord', 'littleknown', 'study', 'simply', 'expose', 'spine', 'minute', 'sunlight', 'breakfast', 'naturally', 'reset', 'dna', 'eliminate', 'chronic', 'disease', 'include', 'diabetes', 'hypertension', 'alzheimer', 'powerful', 'healing', 'technique', 'know', 'solar', 'spinal', 'activation', 'hide', 'public', 'mainstream', 'healthcare', 'provider', 'thousand', 'reverse', 'lifelong', 'illness', 'practice', 'daily', 'combine', 'glass', 'alkaline', 'water', 'guarantee', 'detox', 'solution', 'flush', 'harmful', 'toxin', 'balance', 'bodys', 'energy', 'field', 'need', 'medication', 'surgery', 'big', 'pharma', 'not', 'want', 'knowledge', 'spread', 'threaten', 'billion', 'annual', 'profit']\n",
      "🔸 Entities: []\n",
      "⚠ Suspicious Words: ['detox']\n"
     ]
    }
   ],
   "source": [
    "# ====================================\n",
    "# 🧼 5. Preprocess User Health Claim\n",
    "# ====================================\n",
    "import spacy\n",
    "import re\n",
    "\n",
    "# Load spaCy model\n",
    "nlp = spacy.load(\"en_core_web_sm\")\n",
    "\n",
    "# Suspicious/buzz words to flag\n",
    "suspicious_words = {\"miracle\", \"instant\", \"guaranteed\", \"cure\", \"magic\", \"secret\", \"detox\", \"superfood\"}\n",
    "\n",
    "def preprocess_claim(text):\n",
    "    # Lowercase & remove punctuation\n",
    "    cleaned = re.sub(r'[^\\w\\s]', '', text.lower())\n",
    "    doc = nlp(cleaned)\n",
    "\n",
    "    # Tokens: lemmatized, filtered\n",
    "    tokens = [token.lemma_ for token in doc if not token.is_stop and token.is_alpha]\n",
    "\n",
    "    # Named Entities\n",
    "    entities = [(ent.text, ent.label_) for ent in doc.ents if ent.label_ in {\"DISEASE\", \"DRUG\", \"SYMPTOM\", \"TREATMENT\", \"ORG\", \"PERSON\"}]\n",
    "\n",
    "    # Suspicious terms\n",
    "    found_sus = [word for word in tokens if word in suspicious_words]\n",
    "\n",
    "    return {\n",
    "        \"original\": text,\n",
    "        \"cleaned\": cleaned,\n",
    "        \"tokens\": tokens,\n",
    "        \"entities\": entities,\n",
    "        \"suspicious_terms\": found_sus\n",
    "    }\n",
    "\n",
    "# 🧠 User input\n",
    "user_claim = input(\"💬 Enter a health claim: \")\n",
    "\n",
    "# Run preprocessing\n",
    "result = preprocess_claim(user_claim)\n",
    "\n",
    "# Display results\n",
    "print(\"\\n✅ Claim Analysis:\")\n",
    "print(\"🔸 Cleaned:\", result[\"cleaned\"])\n",
    "print(\"🔸 Tokens:\", result[\"tokens\"])\n",
    "print(\"🔸 Entities:\", result[\"entities\"])\n",
    "print(\"⚠ Suspicious Words:\", result[\"suspicious_terms\"])"
   ]
  },
  {
   "cell_type": "code",
   "execution_count": 19,
   "metadata": {
    "colab": {
     "base_uri": "https://localhost:8080/"
    },
    "id": "G472UxWxWVsZ",
    "outputId": "82cff68d-25dd-4a1d-b76c-48a32a1d5840"
   },
   "outputs": [
    {
     "name": "stdout",
     "output_type": "stream",
     "text": [
      "✅ Claim embedded with shape: torch.Size([768])\n"
     ]
    }
   ],
   "source": [
    "# ====================================\n",
    "# 🧠 6. Embed Claim with PubMedBERT\n",
    "# ====================================\n",
    "claim_embedding = model.encode(result[\"original\"], convert_to_tensor=True)\n",
    "\n",
    "print(\"✅ Claim embedded with shape:\", claim_embedding.shape)"
   ]
  },
  {
   "cell_type": "code",
   "execution_count": 20,
   "metadata": {
    "colab": {
     "base_uri": "https://localhost:8080/"
    },
    "id": "kz6pV-lJWchq",
    "outputId": "e26724b4-8319-4c19-e172-32b208f0dcec"
   },
   "outputs": [
    {
     "name": "stdout",
     "output_type": "stream",
     "text": [
      "\n",
      "🔹 Score: 0.549\n",
      "📘 Title: Sunburn\n",
      "🔗 URL: https://www.mayoclinic.org/diseases-conditions/sunburn/symptoms-causes/syc-20355922\n",
      "📝 Snippet: Print Overview Sunburn is inflamed, painful skin that feels hot to the touch. It often appears within a few hours of being in the sun too long. You can get sunburn relief with simple self-care measure...\n",
      "\n",
      "🔹 Score: 0.450\n",
      "📘 Title: Cancer\n",
      "🔗 URL: https://www.mayoclinic.org/diseases-conditions/cancer/symptoms-causes/syc-20370588\n",
      "📝 Snippet: Print Overview Cancer refers to any one of a large number of diseases characterized by the development of abnormal cells that divide uncontrollably and have the ability to infiltrate and destroy norma...\n",
      "\n",
      "🔹 Score: 0.446\n",
      "📘 Title: Peripheral nerve injuries\n",
      "🔗 URL: https://www.mayoclinic.org/diseases-conditions/peripheral-nerve-injuries/symptoms-causes/syc-20355631\n",
      "📝 Snippet: Print Overview Peripheral nerves send messages from the brain and spinal cord to the rest of the body. They help do things such as sense that the feet are cold and move the body's muscles for walking....\n",
      "\n",
      "🔹 Score: 0.426\n",
      "📘 Title: Sun allergy\n",
      "🔗 URL: https://www.mayoclinic.org/diseases-conditions/sun-allergy/symptoms-causes/syc-20378077\n",
      "📝 Snippet: Print Overview Sun allergy is a broad term. It describes several conditions that cause an itchy rash to form on the skin after being in sunlight or other sources of ultraviolet (UV) radiation. Polymor...\n",
      "\n",
      "🔹 Score: 0.424\n",
      "📘 Title: Basal cell carcinoma\n",
      "🔗 URL: https://www.mayoclinic.org/diseases-conditions/basal-cell-carcinoma/symptoms-causes/syc-20354187\n",
      "📝 Snippet: Symptoms Basal cell carcinoma usually develops on sun-exposed parts of your body, especially your head and neck. Less often, basal cell carcinoma can develop on parts of your body usually protected fr...\n"
     ]
    },
    {
     "name": "stderr",
     "output_type": "stream",
     "text": [
      "<ipython-input-20-039c45f46b59>:6: DeprecationWarning: `search` method is deprecated and will be removed in the future. Use `query_points` instead.\n",
      "  search_results = client.search(\n"
     ]
    }
   ],
   "source": [
    "# ====================================\n",
    "# 🔍 7. Semantic Search in Qdrant\n",
    "# ====================================\n",
    "top_k = 5  # top matches to retrieve\n",
    "\n",
    "search_results = client.search(\n",
    "    collection_name=\"mayo\",\n",
    "    query_vector=claim_embedding.tolist(),\n",
    "    limit=top_k\n",
    ")\n",
    "\n",
    "# Display top results\n",
    "for hit in search_results:\n",
    "    print(f\"\\n🔹 Score: {hit.score:.3f}\")\n",
    "    print(f\"📘 Title: {hit.payload['title']}\")\n",
    "    print(f\"🔗 URL: {hit.payload['url']}\")\n",
    "    print(f\"📝 Snippet: {hit.payload['content'][:200]}...\")"
   ]
  },
  {
   "cell_type": "code",
   "execution_count": 21,
   "metadata": {
    "colab": {
     "base_uri": "https://localhost:8080/"
    },
    "id": "e3fmbATVWgw_",
    "outputId": "0e498c18-d6c0-494a-af4c-d522b8f0fe8f"
   },
   "outputs": [
    {
     "name": "stdout",
     "output_type": "stream",
     "text": [
      "\n",
      "🧠 Verdict: ⚠ Unclear\n"
     ]
    }
   ],
   "source": [
    "# ====================================\n",
    "# ✅ 8. Verdict Engine\n",
    "# ====================================\n",
    "top_score = search_results[0].score\n",
    "\n",
    "if top_score >= 0.7:\n",
    "    verdict = \"✅ Trusted\"\n",
    "elif top_score >= 0.5:\n",
    "    verdict = \"⚠ Unclear\"\n",
    "else:\n",
    "    verdict = \"❌ Risky\"\n",
    "\n",
    "print(f\"\\n🧠 Verdict: {verdict}\")"
   ]
  },
  {
   "cell_type": "code",
   "execution_count": null,
   "metadata": {
    "id": "-4pb4clbW0i9"
   },
   "outputs": [],
   "source": []
  }
 ],
 "metadata": {
  "accelerator": "GPU",
  "colab": {
   "gpuType": "T4",
   "provenance": []
  },
  "kernelspec": {
   "display_name": "Python 3 (ipykernel)",
   "language": "python",
   "name": "python3"
  },
  "language_info": {
   "codemirror_mode": {
    "name": "ipython",
    "version": 3
   },
   "file_extension": ".py",
   "mimetype": "text/x-python",
   "name": "python",
   "nbconvert_exporter": "python",
   "pygments_lexer": "ipython3",
   "version": "3.8.10"
  },
  "widgets": {
   "application/vnd.jupyter.widget-state+json": {
    "2de88e3e20044af99b372d323bf8d7b3": {
     "model_module": "@jupyter-widgets/base",
     "model_module_version": "1.2.0",
     "model_name": "LayoutModel",
     "state": {
      "_model_module": "@jupyter-widgets/base",
      "_model_module_version": "1.2.0",
      "_model_name": "LayoutModel",
      "_view_count": null,
      "_view_module": "@jupyter-widgets/base",
      "_view_module_version": "1.2.0",
      "_view_name": "LayoutView",
      "align_content": null,
      "align_items": null,
      "align_self": null,
      "border": null,
      "bottom": null,
      "display": null,
      "flex": null,
      "flex_flow": null,
      "grid_area": null,
      "grid_auto_columns": null,
      "grid_auto_flow": null,
      "grid_auto_rows": null,
      "grid_column": null,
      "grid_gap": null,
      "grid_row": null,
      "grid_template_areas": null,
      "grid_template_columns": null,
      "grid_template_rows": null,
      "height": null,
      "justify_content": null,
      "justify_items": null,
      "left": null,
      "margin": null,
      "max_height": null,
      "max_width": null,
      "min_height": null,
      "min_width": null,
      "object_fit": null,
      "object_position": null,
      "order": null,
      "overflow": null,
      "overflow_x": null,
      "overflow_y": null,
      "padding": null,
      "right": null,
      "top": null,
      "visibility": null,
      "width": null
     }
    },
    "40cbd0394551476bb51baf08e079e925": {
     "model_module": "@jupyter-widgets/controls",
     "model_module_version": "1.5.0",
     "model_name": "ProgressStyleModel",
     "state": {
      "_model_module": "@jupyter-widgets/controls",
      "_model_module_version": "1.5.0",
      "_model_name": "ProgressStyleModel",
      "_view_count": null,
      "_view_module": "@jupyter-widgets/base",
      "_view_module_version": "1.2.0",
      "_view_name": "StyleView",
      "bar_color": null,
      "description_width": ""
     }
    },
    "47c93f59420c471f90d9a2245435494b": {
     "model_module": "@jupyter-widgets/base",
     "model_module_version": "1.2.0",
     "model_name": "LayoutModel",
     "state": {
      "_model_module": "@jupyter-widgets/base",
      "_model_module_version": "1.2.0",
      "_model_name": "LayoutModel",
      "_view_count": null,
      "_view_module": "@jupyter-widgets/base",
      "_view_module_version": "1.2.0",
      "_view_name": "LayoutView",
      "align_content": null,
      "align_items": null,
      "align_self": null,
      "border": null,
      "bottom": null,
      "display": null,
      "flex": null,
      "flex_flow": null,
      "grid_area": null,
      "grid_auto_columns": null,
      "grid_auto_flow": null,
      "grid_auto_rows": null,
      "grid_column": null,
      "grid_gap": null,
      "grid_row": null,
      "grid_template_areas": null,
      "grid_template_columns": null,
      "grid_template_rows": null,
      "height": null,
      "justify_content": null,
      "justify_items": null,
      "left": null,
      "margin": null,
      "max_height": null,
      "max_width": null,
      "min_height": null,
      "min_width": null,
      "object_fit": null,
      "object_position": null,
      "order": null,
      "overflow": null,
      "overflow_x": null,
      "overflow_y": null,
      "padding": null,
      "right": null,
      "top": null,
      "visibility": null,
      "width": null
     }
    },
    "4d10aab9d92946318bd3d443f7085154": {
     "model_module": "@jupyter-widgets/controls",
     "model_module_version": "1.5.0",
     "model_name": "HTMLModel",
     "state": {
      "_dom_classes": [],
      "_model_module": "@jupyter-widgets/controls",
      "_model_module_version": "1.5.0",
      "_model_name": "HTMLModel",
      "_view_count": null,
      "_view_module": "@jupyter-widgets/controls",
      "_view_module_version": "1.5.0",
      "_view_name": "HTMLView",
      "description": "",
      "description_tooltip": null,
      "layout": "IPY_MODEL_8464c718b78d4a7086e46ebfd4ff79d4",
      "placeholder": "​",
      "style": "IPY_MODEL_e46ca5ea1b2f437086604c6ce90a1493",
      "value": " 34/34 [00:07&lt;00:00,  6.29it/s]"
     }
    },
    "831883105ac948fa87ef3fe3d4886efd": {
     "model_module": "@jupyter-widgets/controls",
     "model_module_version": "1.5.0",
     "model_name": "DescriptionStyleModel",
     "state": {
      "_model_module": "@jupyter-widgets/controls",
      "_model_module_version": "1.5.0",
      "_model_name": "DescriptionStyleModel",
      "_view_count": null,
      "_view_module": "@jupyter-widgets/base",
      "_view_module_version": "1.2.0",
      "_view_name": "StyleView",
      "description_width": ""
     }
    },
    "8464c718b78d4a7086e46ebfd4ff79d4": {
     "model_module": "@jupyter-widgets/base",
     "model_module_version": "1.2.0",
     "model_name": "LayoutModel",
     "state": {
      "_model_module": "@jupyter-widgets/base",
      "_model_module_version": "1.2.0",
      "_model_name": "LayoutModel",
      "_view_count": null,
      "_view_module": "@jupyter-widgets/base",
      "_view_module_version": "1.2.0",
      "_view_name": "LayoutView",
      "align_content": null,
      "align_items": null,
      "align_self": null,
      "border": null,
      "bottom": null,
      "display": null,
      "flex": null,
      "flex_flow": null,
      "grid_area": null,
      "grid_auto_columns": null,
      "grid_auto_flow": null,
      "grid_auto_rows": null,
      "grid_column": null,
      "grid_gap": null,
      "grid_row": null,
      "grid_template_areas": null,
      "grid_template_columns": null,
      "grid_template_rows": null,
      "height": null,
      "justify_content": null,
      "justify_items": null,
      "left": null,
      "margin": null,
      "max_height": null,
      "max_width": null,
      "min_height": null,
      "min_width": null,
      "object_fit": null,
      "object_position": null,
      "order": null,
      "overflow": null,
      "overflow_x": null,
      "overflow_y": null,
      "padding": null,
      "right": null,
      "top": null,
      "visibility": null,
      "width": null
     }
    },
    "84a68147d0b84c8e8fc86af5f63ce9c0": {
     "model_module": "@jupyter-widgets/base",
     "model_module_version": "1.2.0",
     "model_name": "LayoutModel",
     "state": {
      "_model_module": "@jupyter-widgets/base",
      "_model_module_version": "1.2.0",
      "_model_name": "LayoutModel",
      "_view_count": null,
      "_view_module": "@jupyter-widgets/base",
      "_view_module_version": "1.2.0",
      "_view_name": "LayoutView",
      "align_content": null,
      "align_items": null,
      "align_self": null,
      "border": null,
      "bottom": null,
      "display": null,
      "flex": null,
      "flex_flow": null,
      "grid_area": null,
      "grid_auto_columns": null,
      "grid_auto_flow": null,
      "grid_auto_rows": null,
      "grid_column": null,
      "grid_gap": null,
      "grid_row": null,
      "grid_template_areas": null,
      "grid_template_columns": null,
      "grid_template_rows": null,
      "height": null,
      "justify_content": null,
      "justify_items": null,
      "left": null,
      "margin": null,
      "max_height": null,
      "max_width": null,
      "min_height": null,
      "min_width": null,
      "object_fit": null,
      "object_position": null,
      "order": null,
      "overflow": null,
      "overflow_x": null,
      "overflow_y": null,
      "padding": null,
      "right": null,
      "top": null,
      "visibility": null,
      "width": null
     }
    },
    "8dd96cbe2d574ee28c2c2ae9f6228b27": {
     "model_module": "@jupyter-widgets/controls",
     "model_module_version": "1.5.0",
     "model_name": "HTMLModel",
     "state": {
      "_dom_classes": [],
      "_model_module": "@jupyter-widgets/controls",
      "_model_module_version": "1.5.0",
      "_model_name": "HTMLModel",
      "_view_count": null,
      "_view_module": "@jupyter-widgets/controls",
      "_view_module_version": "1.5.0",
      "_view_name": "HTMLView",
      "description": "",
      "description_tooltip": null,
      "layout": "IPY_MODEL_2de88e3e20044af99b372d323bf8d7b3",
      "placeholder": "​",
      "style": "IPY_MODEL_831883105ac948fa87ef3fe3d4886efd",
      "value": "Batches: 100%"
     }
    },
    "e03b04ec04d54ec08b9b3e6e27b7dc7b": {
     "model_module": "@jupyter-widgets/controls",
     "model_module_version": "1.5.0",
     "model_name": "FloatProgressModel",
     "state": {
      "_dom_classes": [],
      "_model_module": "@jupyter-widgets/controls",
      "_model_module_version": "1.5.0",
      "_model_name": "FloatProgressModel",
      "_view_count": null,
      "_view_module": "@jupyter-widgets/controls",
      "_view_module_version": "1.5.0",
      "_view_name": "ProgressView",
      "bar_style": "success",
      "description": "",
      "description_tooltip": null,
      "layout": "IPY_MODEL_47c93f59420c471f90d9a2245435494b",
      "max": 34,
      "min": 0,
      "orientation": "horizontal",
      "style": "IPY_MODEL_40cbd0394551476bb51baf08e079e925",
      "value": 34
     }
    },
    "e06f56e3cb5f406f9a938a759b2ecdac": {
     "model_module": "@jupyter-widgets/controls",
     "model_module_version": "1.5.0",
     "model_name": "HBoxModel",
     "state": {
      "_dom_classes": [],
      "_model_module": "@jupyter-widgets/controls",
      "_model_module_version": "1.5.0",
      "_model_name": "HBoxModel",
      "_view_count": null,
      "_view_module": "@jupyter-widgets/controls",
      "_view_module_version": "1.5.0",
      "_view_name": "HBoxView",
      "box_style": "",
      "children": [
       "IPY_MODEL_8dd96cbe2d574ee28c2c2ae9f6228b27",
       "IPY_MODEL_e03b04ec04d54ec08b9b3e6e27b7dc7b",
       "IPY_MODEL_4d10aab9d92946318bd3d443f7085154"
      ],
      "layout": "IPY_MODEL_84a68147d0b84c8e8fc86af5f63ce9c0"
     }
    },
    "e46ca5ea1b2f437086604c6ce90a1493": {
     "model_module": "@jupyter-widgets/controls",
     "model_module_version": "1.5.0",
     "model_name": "DescriptionStyleModel",
     "state": {
      "_model_module": "@jupyter-widgets/controls",
      "_model_module_version": "1.5.0",
      "_model_name": "DescriptionStyleModel",
      "_view_count": null,
      "_view_module": "@jupyter-widgets/base",
      "_view_module_version": "1.2.0",
      "_view_name": "StyleView",
      "description_width": ""
     }
    }
   }
  }
 },
 "nbformat": 4,
 "nbformat_minor": 1
}
